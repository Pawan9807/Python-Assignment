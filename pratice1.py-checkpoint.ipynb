{
 "cells": [
  {
   "cell_type": "code",
   "execution_count": 20,
   "metadata": {},
   "outputs": [
    {
     "name": "stdout",
     "output_type": "stream",
     "text": [
      "   student   mark    address\n",
      "0        a    1.0    lucknow\n",
      "1        b   12.0      noida\n",
      "2        c   23.0     deoria\n",
      "3        d  234.0    hathras\n",
      "4        e   33.0      balia\n",
      "5        f   45.0    vanaras\n",
      "6        g    NaN        NaN\n",
      "7        h   33.0      assam\n",
      "8        i  223.0    ayodhya\n",
      "9        j   45.0     manali\n",
      "10       k   56.0     shilma\n",
      "11       l    6.0      delhi\n",
      "12       o   23.0  gurgaram \n",
      "13       p   23.0      patna\n",
      "\n",
      "\n",
      "   student   mark    address\n",
      "0        a    1.0    lucknow\n",
      "1        b   12.0      noida\n",
      "2        c   23.0     deoria\n",
      "3        d  234.0    hathras\n",
      "4        e   33.0      balia\n",
      "5        f   45.0    vanaras\n",
      "6        g    NaN        NaN\n",
      "7        h   33.0      assam\n",
      "8        i  223.0    ayodhya\n",
      "9        j   45.0     manali\n",
      "10       k   56.0     shilma\n",
      "11       l    6.0      delhi\n",
      "12       o   23.0  gurgaram \n",
      "13       p   23.0      patna\n"
     ]
    }
   ],
   "source": [
    "import pandas as pd\n",
    "df=pd.read_csv(\"D:\\\\Book1.csv\")\n",
    "print(df.to_string()) #to return entire data frame\n",
    "print \"\\n\"\n",
    "print(df)"
   ]
  },
  {
   "cell_type": "code",
   "execution_count": 21,
   "metadata": {},
   "outputs": [
    {
     "name": "stdout",
     "output_type": "stream",
     "text": [
      "9999\n"
     ]
    }
   ],
   "source": [
    "print(pd.options.display.max_rows) #to check your system max. rows"
   ]
  },
  {
   "cell_type": "code",
   "execution_count": 22,
   "metadata": {},
   "outputs": [
    {
     "name": "stdout",
     "output_type": "stream",
     "text": [
      "   student   mark    address\n",
      "0        a    1.0    lucknow\n",
      "1        b   12.0      noida\n",
      "2        c   23.0     deoria\n",
      "3        d  234.0    hathras\n",
      "4        e   33.0      balia\n",
      "5        f   45.0    vanaras\n",
      "6        g    NaN        NaN\n",
      "7        h   33.0      assam\n",
      "8        i  223.0    ayodhya\n",
      "9        j   45.0     manali\n",
      "10       k   56.0     shilma\n",
      "11       l    6.0      delhi\n",
      "12       o   23.0  gurgaram \n",
      "13       p   23.0      patna\n"
     ]
    }
   ],
   "source": [
    "#increase maximum number of rows to display the entire dataframe\n",
    "\n",
    "pd.options.display.max_rows=9999\n",
    "print(df)"
   ]
  },
  {
   "cell_type": "code",
   "execution_count": 23,
   "metadata": {},
   "outputs": [
    {
     "name": "stdout",
     "output_type": "stream",
     "text": [
      "  student   mark  address\n",
      "0       a    1.0  lucknow\n",
      "1       b   12.0    noida\n",
      "2       c   23.0   deoria\n",
      "3       d  234.0  hathras\n",
      "4       e   33.0    balia\n",
      "   student   mark  address\n",
      "0        a    1.0  lucknow\n",
      "1        b   12.0    noida\n",
      "2        c   23.0   deoria\n",
      "3        d  234.0  hathras\n",
      "4        e   33.0    balia\n",
      "5        f   45.0  vanaras\n",
      "6        g    NaN      NaN\n",
      "7        h   33.0    assam\n",
      "8        i  223.0  ayodhya\n",
      "9        j   45.0   manali\n",
      "10       k   56.0   shilma\n",
      "11       l    6.0    delhi\n"
     ]
    }
   ],
   "source": [
    "#view the data - head()->return headers and a specified number of rows ,starting\n",
    "#from the top\n",
    "\n",
    "print(df.head())  #if head doesn't specify then it take first five row only\n",
    "print(df.head(12))\n"
   ]
  },
  {
   "cell_type": "code",
   "execution_count": 24,
   "metadata": {},
   "outputs": [
    {
     "name": "stdout",
     "output_type": "stream",
     "text": [
      "   student   mark    address\n",
      "5        f   45.0    vanaras\n",
      "6        g    NaN        NaN\n",
      "7        h   33.0      assam\n",
      "8        i  223.0    ayodhya\n",
      "9        j   45.0     manali\n",
      "10       k   56.0     shilma\n",
      "11       l    6.0      delhi\n",
      "12       o   23.0  gurgaram \n",
      "13       p   23.0      patna\n"
     ]
    }
   ],
   "source": [
    "#tail() method for viewing the last rows of the DataFrame(in case of not specify)\n",
    "\n",
    "print(df.tail(9))"
   ]
  },
  {
   "cell_type": "code",
   "execution_count": 26,
   "metadata": {},
   "outputs": [
    {
     "name": "stdout",
     "output_type": "stream",
     "text": [
      "<class 'pandas.core.frame.DataFrame'>\n",
      "RangeIndex: 14 entries, 0 to 13\n",
      "Data columns (total 3 columns):\n",
      "student    14 non-null object\n",
      "mark       13 non-null float64\n",
      "address    13 non-null object\n",
      "dtypes: float64(1), object(2)\n",
      "memory usage: 260.0+ bytes\n",
      "None\n"
     ]
    }
   ],
   "source": [
    "#info() -it gives you more info. about data set\n",
    "print(df.info())"
   ]
  },
  {
   "cell_type": "code",
   "execution_count": null,
   "metadata": {
    "collapsed": true
   },
   "outputs": [],
   "source": [
    "'''cleaning Data \n",
    "it means fixing bad data in your data set\n",
    "Bad data could be:\n",
    "1.Empty cells\n",
    "2.Data in wrong format\n",
    "3.wrong data\n",
    "4.duplicates\n",
    "'''\n"
   ]
  },
  {
   "cell_type": "code",
   "execution_count": 30,
   "metadata": {},
   "outputs": [
    {
     "name": "stdout",
     "output_type": "stream",
     "text": [
      "   student mark    address\n",
      "0        a  der    lucknow\n",
      "1        b   12      noida\n",
      "2        c   23     deoria\n",
      "3        d   32    hathras\n",
      "4        e   33      balia\n",
      "5        f   45    vanaras\n",
      "6        g  NaN     shilma\n",
      "7        h   33      assam\n",
      "8        i   43    ayodhya\n",
      "9        j   45     manali\n",
      "10       k    6      delhi\n",
      "11       l    6      delhi\n",
      "12       o   23  gurgaram \n",
      "13       p   23      patna\n"
     ]
    }
   ],
   "source": [
    "import pandas as pd\n",
    "df=pd.read_csv(\"D:\\\\Book1.csv\")\n",
    "\n",
    "print(df.to_string()) #to return entire data frame\n"
   ]
  },
  {
   "cell_type": "code",
   "execution_count": 31,
   "metadata": {},
   "outputs": [
    {
     "name": "stdout",
     "output_type": "stream",
     "text": [
      "   student mark    address\n",
      "0        a  der    lucknow\n",
      "1        b   12      noida\n",
      "2        c   23     deoria\n",
      "3        d   32    hathras\n",
      "4        e   33      balia\n",
      "5        f   45    vanaras\n",
      "6        g  NaN     shilma\n",
      "7        h   33      assam\n",
      "8        i   43    ayodhya\n",
      "9        j   45     manali\n",
      "10       k    6      delhi\n",
      "11       l    6      delhi\n",
      "12       o   23  gurgaram \n",
      "13       p   23      patna\n"
     ]
    }
   ],
   "source": [
    "#Remove Rows which doesn't impact on the result\n",
    "\n",
    "new_df=df.dropna() #it same as original dat\n",
    "print(df)"
   ]
  },
  {
   "cell_type": "code",
   "execution_count": null,
   "metadata": {},
   "outputs": [],
   "source": [
    "#but we changed in original dataframe,use inplace =True argument\n",
    "df.dropna(inplace=True) #it will remove all rows containting NULL values from orin. dataframe\n",
    "print(df)"
   ]
  },
  {
   "cell_type": "code",
   "execution_count": 37,
   "metadata": {},
   "outputs": [
    {
     "name": "stdout",
     "output_type": "stream",
     "text": [
      "   student mark    address\n",
      "0        a  der    lucknow\n",
      "1        b   12      noida\n",
      "2        c   23     deoria\n",
      "3        d   32    hathras\n",
      "4        e   33      balia\n",
      "5        f   45    vanaras\n",
      "7        h   33      assam\n",
      "8        i   43    ayodhya\n",
      "9        j   45     manali\n",
      "10       k    6      delhi\n",
      "11       l    6      delhi\n",
      "12       o   23  gurgaram \n",
      "13       p   23      patna\n"
     ]
    }
   ],
   "source": [
    "#not worked\n",
    "#replace empty values\n",
    "'''Another way of dealing with empty cells is to insert a new value instead.\n",
    "\n",
    "This way you do not have to delete entire rows just because of some empty cells.\n",
    "\n",
    "The fillna() method allows us to replace empty cells with a value:'''\n",
    "\n",
    "df.fillna(23,inplace=True)\n",
    "print(df)"
   ]
  },
  {
   "cell_type": "code",
   "execution_count": 43,
   "metadata": {},
   "outputs": [
    {
     "name": "stdout",
     "output_type": "stream",
     "text": [
      "   student mark    address\n",
      "0        a  der    lucknow\n",
      "1        b   12      noida\n",
      "2        c   23     deoria\n",
      "3        d   32    hathras\n",
      "4        e   33      balia\n",
      "5        f   45    vanaras\n",
      "7        h   33      assam\n",
      "8        i   43    ayodhya\n",
      "9        j   45     manali\n",
      "10       k    6      delhi\n",
      "11       l    6      delhi\n",
      "12       o   23  gurgaram \n",
      "13       p   23      patna\n"
     ]
    }
   ],
   "source": [
    "#Replace Only For Specified Columns\n",
    "df[\"mark\"].fillna(23,inplace=True)\n",
    "print(df)"
   ]
  },
  {
   "cell_type": "code",
   "execution_count": null,
   "metadata": {
    "collapsed": true
   },
   "outputs": [],
   "source": []
  }
 ],
 "metadata": {
  "kernelspec": {
   "display_name": "Python 2",
   "language": "python",
   "name": "python2"
  },
  "language_info": {
   "codemirror_mode": {
    "name": "ipython",
    "version": 2
   },
   "file_extension": ".py",
   "mimetype": "text/x-python",
   "name": "python",
   "nbconvert_exporter": "python",
   "pygments_lexer": "ipython2",
   "version": "2.7.13"
  }
 },
 "nbformat": 4,
 "nbformat_minor": 2
}
