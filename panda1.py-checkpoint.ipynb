{
 "cells": [
  {
   "cell_type": "code",
   "execution_count": 9,
   "metadata": {},
   "outputs": [
    {
     "name": "stdout",
     "output_type": "stream",
     "text": [
      "Empty DataFrame\n",
      "Columns: []\n",
      "Index: []\n"
     ]
    }
   ],
   "source": [
    "import numpy as np;\n",
    "import pandas as pd\n",
    "\n",
    "df=pd.DataFrame()\n",
    "print(df)"
   ]
  },
  {
   "cell_type": "code",
   "execution_count": 3,
   "metadata": {},
   "outputs": [
    {
     "name": "stdout",
     "output_type": "stream",
     "text": [
      "[1, 2, 3, 4, 'a', 2.0, 'f']\n"
     ]
    }
   ],
   "source": [
    "lst=[1,2,3,4,'a',2.0,\"f\"]\n",
    "print(lst)"
   ]
  },
  {
   "cell_type": "code",
   "execution_count": 5,
   "metadata": {},
   "outputs": [
    {
     "name": "stdout",
     "output_type": "stream",
     "text": [
      "   0\n",
      "0  1\n",
      "1  2\n",
      "2  3\n",
      "3  4\n",
      "4  a\n",
      "5  2\n",
      "6  f\n"
     ]
    }
   ],
   "source": [
    "df=pd.DataFrame(lst)\n",
    "print(df)"
   ]
  },
  {
   "cell_type": "code",
   "execution_count": 10,
   "metadata": {},
   "outputs": [
    {
     "name": "stdout",
     "output_type": "stream",
     "text": [
      "   0\n",
      "1  a\n",
      "2  2\n",
      "3  f\n"
     ]
    }
   ],
   "source": [
    "lst1=['a',2.0,\"f\"]\n",
    "df=pd.DataFrame(lst1,index=[1,2,3])\n",
    "print(df)\n"
   ]
  },
  {
   "cell_type": "code",
   "execution_count": 13,
   "metadata": {
    "collapsed": true
   },
   "outputs": [],
   "source": [
    "df=pd.DataFrame(['a','b','c'],index=['r','t','u'])\n",
    "#print(df)"
   ]
  },
  {
   "cell_type": "code",
   "execution_count": 14,
   "metadata": {},
   "outputs": [
    {
     "name": "stdout",
     "output_type": "stream",
     "text": [
      "(0, r    a\n",
      "t    b\n",
      "u    c\n",
      "Name: 0, dtype: object)\n"
     ]
    }
   ],
   "source": [
    "#working index and value is printed here for key,value in df.iteritems():\n",
    "#print(key,value)\n",
    "for x,n in df.iteritems():\n",
    "    print(x,n)\n",
    "    \n",
    "#for rowindex,row in df.ierrows():\n",
    "#print(row_index,row)    "
   ]
  },
  {
   "cell_type": "code",
   "execution_count": 20,
   "metadata": {},
   "outputs": [
    {
     "name": "stdout",
     "output_type": "stream",
     "text": [
      "       col1      col2      col3\n",
      "6  1.340127  0.605307 -0.416562\n",
      "7 -0.400531  0.691680 -0.516785\n",
      "8  0.482764 -0.210284 -0.584363\n",
      "9  1.332897 -0.446907  0.463131\n",
      "(6, col1    1.340127\n",
      "col2    0.605307\n",
      "col3   -0.416562\n",
      "Name: 6, dtype: float64)\n",
      "(7, col1   -0.400531\n",
      "col2    0.691680\n",
      "col3   -0.516785\n",
      "Name: 7, dtype: float64)\n",
      "(8, col1    0.482764\n",
      "col2   -0.210284\n",
      "col3   -0.584363\n",
      "Name: 8, dtype: float64)\n",
      "(9, col1    1.332897\n",
      "col2   -0.446907\n",
      "col3    0.463131\n",
      "Name: 9, dtype: float64)\n"
     ]
    }
   ],
   "source": [
    "#it print rowwise\n",
    "df=pd.DataFrame(np.random.randn(4,3),index=[6,7,8,9],columns=[\"col1\",\"col2\",\"col3\"])\n",
    "print(df)\n",
    "\n",
    "for row_index,row in df.iterrows():\n",
    "    print(row_index,row)"
   ]
  },
  {
   "cell_type": "code",
   "execution_count": 18,
   "metadata": {},
   "outputs": [
    {
     "name": "stdout",
     "output_type": "stream",
     "text": [
      "('col1', 6   -0.073732\n",
      "7   -1.183426\n",
      "8   -1.144467\n",
      "9    0.142788\n",
      "Name: col1, dtype: float64)\n",
      "('col2', 6   -1.037695\n",
      "7    0.499887\n",
      "8   -1.676651\n",
      "9    0.369547\n",
      "Name: col2, dtype: float64)\n",
      "('col3', 6    0.175361\n",
      "7   -0.049390\n",
      "8   -0.549543\n",
      "9    1.594494\n",
      "Name: col3, dtype: float64)\n",
      "('col1', 6   -0.073732\n",
      "7   -1.183426\n",
      "8   -1.144467\n",
      "9    0.142788\n",
      "Name: col1, dtype: float64)\n",
      "('col2', 6   -1.037695\n",
      "7    0.499887\n",
      "8   -1.676651\n",
      "9    0.369547\n",
      "Name: col2, dtype: float64)\n",
      "('col3', 6    0.175361\n",
      "7   -0.049390\n",
      "8   -0.549543\n",
      "9    1.594494\n",
      "Name: col3, dtype: float64)\n"
     ]
    }
   ],
   "source": [
    "\n",
    "    \n",
    "#it print column wise    \n",
    "for row_index,row in df.iteritems():\n",
    "    print(row_index,row)\n",
    "    "
   ]
  },
  {
   "cell_type": "code",
   "execution_count": 21,
   "metadata": {},
   "outputs": [
    {
     "name": "stdout",
     "output_type": "stream",
     "text": [
      "Pandas(Index=6, col1=1.340126589060544, col2=0.605307345994336, col3=-0.41656238796428235)\n",
      "Pandas(Index=7, col1=-0.40053103131032475, col2=0.69167954630255402, col3=-0.51678545187208869)\n",
      "Pandas(Index=8, col1=0.48276368664366742, col2=-0.21028438427668844, col3=-0.58436346455419486)\n",
      "Pandas(Index=9, col1=1.33289701439089, col2=-0.44690694280303078, col3=0.46313058496739051)\n"
     ]
    }
   ],
   "source": [
    "#itertuples\n",
    "#itertuples() method will return an iterator yeilding a named tuple for each row\n",
    "#the first element of the typle will be the row's corresponding index value,\n",
    "#while remaining values are the row values.\n",
    "\n",
    "for row in df.itertuples():\n",
    "    print(row)"
   ]
  },
  {
   "cell_type": "code",
   "execution_count": 26,
   "metadata": {},
   "outputs": [
    {
     "name": "stdout",
     "output_type": "stream",
     "text": [
      "{'A': ['a', 'b', 'c'], 'C': [2014, 2015, 2016], 'B': [1, 2, 3], 'D': ['AA', 'BB', 'YY']}\n"
     ]
    }
   ],
   "source": [
    "\n",
    "B={'A':['a','b','c'],'B':[1,2,3,3],'C':[2014,2015,2016],'D':['AA','BB','YY']}\n",
    "#print(B)\n",
    "\n",
    "A={'A':['a','b','c'],'B':[1,2,3],'C':[2014,2015,2016],'D':['AA','BB','YY']}\n",
    "print(A)\n",
    "df=pd.DataFrame(A)\n",
    "\n"
   ]
  },
  {
   "cell_type": "code",
   "execution_count": 33,
   "metadata": {},
   "outputs": [
    {
     "name": "stdout",
     "output_type": "stream",
     "text": [
      "                a     b     c    g    h\n",
      "first   [a, b, c]   NaN   NaN  NaN  NaN\n",
      "second          5  10.0  20.0  NaN  NaN\n",
      "third          11   NaN   NaN  6.0  1.0\n"
     ]
    }
   ],
   "source": [
    "#create frame using list of dictionaries\n",
    "#lstDic=[{'A':['a','b','c']},{'B':[1,2,3]},{'C':'AA','BB','CC'}]\n",
    "\n",
    "data=[{'a':['a','b','c']},{'a':5,'b':10,'c':20},{'a':11,'h':1,'g':6}]\n",
    "df=pd.DataFrame(data,index=['first','second','third'])\n",
    "print(df)"
   ]
  },
  {
   "cell_type": "code",
   "execution_count": 40,
   "metadata": {},
   "outputs": [
    {
     "name": "stdout",
     "output_type": "stream",
     "text": [
      "   0  1  2\n",
      "m  1  2  3\n",
      "n  a  b  c\n"
     ]
    }
   ],
   "source": [
    "#create dataframe using list of list\n",
    "\n",
    "lst=[[1,2,3],['a','b','c']]\n",
    "df=pd.DataFrame(lst,index=['m','n'],dtype=float)\n",
    "print(df)"
   ]
  },
  {
   "cell_type": "code",
   "execution_count": 45,
   "metadata": {},
   "outputs": [
    {
     "name": "stdout",
     "output_type": "stream",
     "text": [
      "   0  1  2\n",
      "m  a  b  c\n",
      "n  1  2  3\n"
     ]
    }
   ],
   "source": [
    "\n",
    "lst=[['a','b','c'],[1,2,3]]\n",
    "df=pd.DataFrame(lst,index=['m','n'],dtype=float)\n",
    "print(df)"
   ]
  },
  {
   "cell_type": "code",
   "execution_count": 11,
   "metadata": {},
   "outputs": [
    {
     "name": "stdout",
     "output_type": "stream",
     "text": [
      "   A  B  C\n",
      "0  a  b  c\n",
      "1  1  2  3\n"
     ]
    }
   ],
   "source": [
    "lst1=[['a','b','c'],[1,2,3]]\n",
    "df=pd.DataFrame(lst1,columns=['A','B','C'],dtype=float)\n",
    "print(df)"
   ]
  },
  {
   "cell_type": "code",
   "execution_count": 44,
   "metadata": {},
   "outputs": [
    {
     "name": "stdout",
     "output_type": "stream",
     "text": [
      "     Name   Age\n",
      "0    Alex  10.0\n",
      "1     Bob  12.0\n",
      "2  clarke  13.0\n"
     ]
    }
   ],
   "source": [
    "data=[['Alex',10],['Bob',12],['clarke',13]]\n",
    "df=pd.DataFrame(data,columns=['Name','Age'],dtype=float)\n",
    "print(df)"
   ]
  },
  {
   "cell_type": "code",
   "execution_count": 10,
   "metadata": {},
   "outputs": [
    {
     "name": "stdout",
     "output_type": "stream",
     "text": [
      "     Name   Age\n",
      "5    Alex  10.0\n",
      "6     Bob  12.0\n",
      "7  clarke  13.0\n"
     ]
    }
   ],
   "source": [
    "data=[['Alex',10],['Bob',12],['clarke',13]]\n",
    "df1=pd.DataFrame(data,columns=['Name','Age'],index=[5,6,7],dtype=float)\n",
    "print(df1)"
   ]
  },
  {
   "cell_type": "code",
   "execution_count": 14,
   "metadata": {},
   "outputs": [
    {
     "name": "stdout",
     "output_type": "stream",
     "text": [
      "     Team  Age  Score\n",
      "0   Peter   18      7\n",
      "1    Riff   15      6\n",
      "2    John   17      8\n",
      "3  Michel   18      7\n",
      "4   Sheli   17      5\n",
      "Score      5     6     7     8\n",
      "Team                          \n",
      "John     NaN   NaN   NaN  17.0\n",
      "Michel   NaN   NaN  18.0   NaN\n",
      "Peter    NaN   NaN  18.0   NaN\n",
      "Riff     NaN  15.0   NaN   NaN\n",
      "Sheli   17.0   NaN   NaN   NaN\n"
     ]
    }
   ],
   "source": [
    "\n",
    "import pandas as pd\n",
    "\n",
    "data = [('Peter', 18, 7),\n",
    "        ('Riff', 15, 6),\n",
    "    ('John', 17, 8),('Michel', 18, 7),\n",
    "   ('Sheli', 17, 5) ]\n",
    "\n",
    "\n",
    "\n",
    "df = pd.DataFrame(data, columns =['Team', 'Age', 'Score'])\n",
    "\n",
    "print(df)\n",
    "\n",
    "a = df.pivot('Team', 'Score','Age')\n",
    "print(a)\n"
   ]
  },
  {
   "cell_type": "code",
   "execution_count": 19,
   "metadata": {},
   "outputs": [
    {
     "data": {
      "text/html": [
       "<div>\n",
       "<style>\n",
       "    .dataframe thead tr:only-child th {\n",
       "        text-align: right;\n",
       "    }\n",
       "\n",
       "    .dataframe thead th {\n",
       "        text-align: left;\n",
       "    }\n",
       "\n",
       "    .dataframe tbody tr th {\n",
       "        vertical-align: top;\n",
       "    }\n",
       "</style>\n",
       "<table border=\"1\" class=\"dataframe\">\n",
       "  <thead>\n",
       "    <tr style=\"text-align: right;\">\n",
       "      <th></th>\n",
       "      <th>F</th>\n",
       "      <th>L</th>\n",
       "      <th>Age</th>\n",
       "    </tr>\n",
       "  </thead>\n",
       "  <tbody>\n",
       "    <tr>\n",
       "      <th>0</th>\n",
       "      <td>t</td>\n",
       "      <td>r</td>\n",
       "      <td>25.0</td>\n",
       "    </tr>\n",
       "    <tr>\n",
       "      <th>1</th>\n",
       "      <td>k</td>\n",
       "      <td>p</td>\n",
       "      <td>30.0</td>\n",
       "    </tr>\n",
       "    <tr>\n",
       "      <th>2</th>\n",
       "      <td>n</td>\n",
       "      <td>w</td>\n",
       "      <td>26.0</td>\n",
       "    </tr>\n",
       "    <tr>\n",
       "      <th>3</th>\n",
       "      <td>j</td>\n",
       "      <td>w</td>\n",
       "      <td>22.0</td>\n",
       "    </tr>\n",
       "  </tbody>\n",
       "</table>\n",
       "</div>"
      ],
      "text/plain": [
       "   F  L   Age\n",
       "0  t  r  25.0\n",
       "1  k  p  30.0\n",
       "2  n  w  26.0\n",
       "3  j  w  22.0"
      ]
     },
     "execution_count": 19,
     "metadata": {},
     "output_type": "execute_result"
    }
   ],
   "source": [
    "\n",
    "lst = [['t', 'r', 25], ['k', 'p', 30],\n",
    "       ['n', 'w', 26], ['j', 'w', 22],['t', 'r', 25]]\n",
    "    \n",
    "df = pd.DataFrame(lst, columns =['F', 'L', 'Age'], dtype = float)\n",
    "#remove duplicate\n",
    "df.drop_duplicates()"
   ]
  },
  {
   "cell_type": "code",
   "execution_count": 34,
   "metadata": {},
   "outputs": [
    {
     "name": "stdout",
     "output_type": "stream",
     "text": [
      "        area       food\n",
      "0     deoria      pawan\n",
      "1  baitalpur   jitendra\n",
      "2  gorakhpur  balgovind\n"
     ]
    }
   ],
   "source": [
    "#concatenation\n",
    "\n",
    "address=pd.DataFrame({'area':['deoria','baitalpur','gorakhpur']})\n",
    "name=pd.DataFrame({'food':['pawan','jitendra','balgovind']})\n",
    "\n",
    "#concatenating\n",
    "det=pd.concat([address,name],join='outer',axis=1)\n",
    "\n",
    "print(det)"
   ]
  },
  {
   "cell_type": "code",
   "execution_count": 28,
   "metadata": {},
   "outputs": [
    {
     "name": "stdout",
     "output_type": "stream",
     "text": [
      "    name  word  word2\n",
      "0    one   1.0    NaN\n",
      "1  three   3.0    NaN\n",
      "0    two   NaN    2.0\n",
      "1   four   NaN    4.0\n"
     ]
    }
   ],
   "source": [
    "#create 2 Dataframe\n",
    "first=pd.DataFrame([['one',1],['three',3]],columns=['name','word'])\n",
    "second=pd.DataFrame([['two',2],['four',4]],columns=['name','word2'])\n",
    "\n",
    "dt=first.append(second)\n",
    "print(dt)"
   ]
  },
  {
   "cell_type": "code",
   "execution_count": null,
   "metadata": {
    "collapsed": true
   },
   "outputs": [],
   "source": []
  }
 ],
 "metadata": {
  "kernelspec": {
   "display_name": "Python 2",
   "language": "python",
   "name": "python2"
  },
  "language_info": {
   "codemirror_mode": {
    "name": "ipython",
    "version": 2
   },
   "file_extension": ".py",
   "mimetype": "text/x-python",
   "name": "python",
   "nbconvert_exporter": "python",
   "pygments_lexer": "ipython2",
   "version": "2.7.13"
  }
 },
 "nbformat": 4,
 "nbformat_minor": 2
}
