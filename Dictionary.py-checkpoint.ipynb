{
 "cells": [
  {
   "cell_type": "code",
   "execution_count": null,
   "metadata": {},
   "outputs": [],
   "source": [
    "dict={\n",
    "    \"brand\":\"Ford\",\n",
    "    \"electric\":False,\n",
    "    \"year\":1964,\n",
    "    \"colors\":[\"red\",\"white\",\"blue\"]\n",
    "}\n",
    "\n",
    "dict"
   ]
  },
  {
   "cell_type": "code",
   "execution_count": null,
   "metadata": {},
   "outputs": [],
   "source": [
    "car={\n",
    "    \"brand\":\"Ford\",\n",
    "    \"electric\":False,\n",
    "    \"year\":1964,\n",
    "      \"colors\":[\"red\",\"white\",\"blue\"]\n",
    "}\n",
    "x=car.keys()\n",
    "\n",
    "print(x)\n",
    "car[\"color\"]=\"white\"\n",
    "\n",
    "print(x)"
   ]
  },
  {
   "cell_type": "code",
   "execution_count": null,
   "metadata": {},
   "outputs": [],
   "source": [
    "car={\n",
    "    \"brand\":\"Ford\",\n",
    "    \"electric\":False,\n",
    "    \"year\":1964,\n",
    "      \"colors\":[\"red\",\"white\",\"blue\"]\n",
    "}\n",
    "x=car.values()  #values change value in dictionary\n",
    "\n",
    "print(x) #before change \n",
    "car.update({\"year\": 2020})\n",
    "#car[\"year\"]=2000\n",
    "\n",
    "print(x) #after change\n",
    "car"
   ]
  },
  {
   "cell_type": "code",
   "execution_count": 1,
   "metadata": {},
   "outputs": [
    {
     "name": "stdout",
     "output_type": "stream",
     "text": [
      "({1: 'apple', 2: 'ball'}, {1: [2, 4, 5], 'name': 'john'}, {1: 'apple', 2: 'ball'}, {1: 'apple', 2: 'ball'})\n"
     ]
    }
   ],
   "source": [
    "#empty dictionary\n",
    "dic={}\n",
    "\n",
    "#dictionary with integer keys\n",
    "dict1={1:'apple',2:'ball'}\n",
    "\n",
    "dict2={'name':'john',1:[2,4,5]}\n",
    "\n",
    "dict3=dict({1:\"apple\",2:\"ball\"})\n",
    "\n",
    "dict4=dict([(1,'apple'),(2,'ball')])\n",
    "\n",
    "print(dict1,dict2,dict3,dict4)\n",
    "#dict1\n",
    "#dict2"
   ]
  },
  {
   "cell_type": "code",
   "execution_count": 2,
   "metadata": {},
   "outputs": [
    {
     "name": "stdout",
     "output_type": "stream",
     "text": [
      "jack\n",
      "23\n",
      "None\n"
     ]
    },
    {
     "ename": "KeyError",
     "evalue": "'address'",
     "output_type": "error",
     "traceback": [
      "\u001b[1;31m\u001b[0m",
      "\u001b[1;31mKeyError\u001b[0mTraceback (most recent call last)",
      "\u001b[1;32m<ipython-input-2-280f43df829b>\u001b[0m in \u001b[0;36m<module>\u001b[1;34m()\u001b[0m\n\u001b[0;32m      9\u001b[0m \u001b[1;33m\u001b[0m\u001b[0m\n\u001b[0;32m     10\u001b[0m \u001b[1;33m\u001b[0m\u001b[0m\n\u001b[1;32m---> 11\u001b[1;33m \u001b[1;32mprint\u001b[0m\u001b[1;33m(\u001b[0m\u001b[0mmy_dict\u001b[0m\u001b[1;33m[\u001b[0m\u001b[1;34m'address'\u001b[0m\u001b[1;33m]\u001b[0m\u001b[1;33m)\u001b[0m  \u001b[1;31m#error\u001b[0m\u001b[1;33m\u001b[0m\u001b[0m\n\u001b[0m",
      "\u001b[1;31mKeyError\u001b[0m: 'address'"
     ]
    }
   ],
   "source": [
    "my_dict={'name':'jack','age':23}\n",
    "#get for retrieve\n",
    "print(my_dict['name'])\n",
    "\n",
    "print(my_dict.get('age'))\n",
    "\n",
    "print(my_dict.get('address')) #none\n",
    "\n",
    "\n",
    "\n",
    "print(my_dict['address'])  #error"
   ]
  },
  {
   "cell_type": "code",
   "execution_count": 5,
   "metadata": {},
   "outputs": [
    {
     "name": "stdout",
     "output_type": "stream",
     "text": [
      "{'Science': 0, 'Math': 0, 'English': 0}\n",
      "('Science', 0)\n",
      "('Math', 0)\n",
      "('English', 0)\n",
      "['English', 'Math', 'Science']\n"
     ]
    }
   ],
   "source": [
    "#dictionary Methods\n",
    "\n",
    "marks={}.fromkeys(['Math','English','Science'],0)\n",
    "\n",
    "#output->{'Science': 0, 'Math': 0, 'English': 0}\n",
    "print(marks)\n",
    "\n",
    "for item in marks.items():\n",
    "    print(item)\n",
    "print(list(sorted(marks.keys())))\n"
   ]
  },
  {
   "cell_type": "code",
   "execution_count": 7,
   "metadata": {},
   "outputs": [
    {
     "ename": "SyntaxError",
     "evalue": "invalid syntax (<ipython-input-7-91f82c3d6cc5>, line 10)",
     "output_type": "error",
     "traceback": [
      "\u001b[1;36m  File \u001b[1;32m\"<ipython-input-7-91f82c3d6cc5>\"\u001b[1;36m, line \u001b[1;32m10\u001b[0m\n\u001b[1;33m    squares[x=-1]=x*x\u001b[0m\n\u001b[1;37m             ^\u001b[0m\n\u001b[1;31mSyntaxError\u001b[0m\u001b[1;31m:\u001b[0m invalid syntax\n"
     ]
    }
   ],
   "source": [
    "#Dictionary  comprehension\n",
    "\n",
    "squares={x: x*x for x in range(6)}\n",
    "\n",
    "print(squares)\n",
    "\n",
    "#above code is same as below\n",
    "squares={}\n",
    "for x in range(6):\n",
    "    squares[x]=x*x\n",
    "print(squares)    "
   ]
  },
  {
   "cell_type": "code",
   "execution_count": null,
   "metadata": {
    "collapsed": true
   },
   "outputs": [],
   "source": []
  }
 ],
 "metadata": {
  "kernelspec": {
   "display_name": "Python 2",
   "language": "python",
   "name": "python2"
  },
  "language_info": {
   "codemirror_mode": {
    "name": "ipython",
    "version": 2
   },
   "file_extension": ".py",
   "mimetype": "text/x-python",
   "name": "python",
   "nbconvert_exporter": "python",
   "pygments_lexer": "ipython2",
   "version": "2.7.13"
  }
 },
 "nbformat": 4,
 "nbformat_minor": 2
}
