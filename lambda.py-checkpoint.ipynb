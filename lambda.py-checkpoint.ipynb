{
 "cells": [
  {
   "cell_type": "code",
   "execution_count": 1,
   "metadata": {},
   "outputs": [
    {
     "name": "stdout",
     "output_type": "stream",
     "text": [
      "Addition: 30\n",
      "Addition: 32\n"
     ]
    }
   ],
   "source": [
    "#the anonymous function\n",
    "sum=lambda arg1,arg2:arg1+arg2; #function definition\n",
    "\n",
    "#call sum function\n",
    "print \"Addition:\",sum(10,20)\n",
    "print \"Addition:\",sum(20,12)"
   ]
  },
  {
   "cell_type": "code",
   "execution_count": 4,
   "metadata": {},
   "outputs": [
    {
     "name": "stdout",
     "output_type": "stream",
     "text": [
      "9\n",
      "8\n",
      "13\n"
     ]
    }
   ],
   "source": [
    "x=lambda a:a+4;\n",
    "print(x(5))\n",
    "\n",
    "x=lambda a,b:a*b\n",
    "print(x(4,2))\n",
    "\n",
    "x=lambda a,b,c:a+b+c\n",
    "print(x(2,5,6))"
   ]
  },
  {
   "cell_type": "code",
   "execution_count": 10,
   "metadata": {},
   "outputs": [
    {
     "name": "stdout",
     "output_type": "stream",
     "text": [
      "24\n"
     ]
    }
   ],
   "source": [
    "def myfun(n):\n",
    "    return lambda a:a*n\n",
    "\n",
    "mydoubler=myfun(2)\n",
    "print(myfun(2))\n",
    "\n",
    "print(mydoubler(12)) #a=12,n=2"
   ]
  },
  {
   "cell_type": "code",
   "execution_count": 9,
   "metadata": {},
   "outputs": [
    {
     "name": "stdout",
     "output_type": "stream",
     "text": [
      "<function <lambda> at 0x0404F3F0>\n",
      "24\n"
     ]
    }
   ],
   "source": [
    "def myfun(n):\n",
    "    return lambda a:a*n\n",
    "\n",
    "mytripler=myfun(2)\n",
    "print(myfun(2))\n",
    "\n",
    "print(mytripler(12)) "
   ]
  },
  {
   "cell_type": "code",
   "execution_count": null,
   "metadata": {
    "collapsed": true
   },
   "outputs": [],
   "source": []
  }
 ],
 "metadata": {
  "kernelspec": {
   "display_name": "Python 2",
   "language": "python",
   "name": "python2"
  },
  "language_info": {
   "codemirror_mode": {
    "name": "ipython",
    "version": 2
   },
   "file_extension": ".py",
   "mimetype": "text/x-python",
   "name": "python",
   "nbconvert_exporter": "python",
   "pygments_lexer": "ipython2",
   "version": "2.7.13"
  }
 },
 "nbformat": 4,
 "nbformat_minor": 2
}
