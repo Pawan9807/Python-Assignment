{
 "cells": [
  {
   "cell_type": "code",
   "execution_count": 4,
   "metadata": {},
   "outputs": [
    {
     "name": "stdout",
     "output_type": "stream",
     "text": [
      "['car', 'bike', 'truck']\n",
      "['car', 'bike', 'truck']\n"
     ]
    }
   ],
   "source": [
    "clist=[\"car\",\"bike\",\"truck\"]\n",
    "print clist\n",
    "thisclist=clist=list((\"car\",\"bike\",\"truck\"))\n",
    "print(thisclist)\n"
   ]
  },
  {
   "cell_type": "code",
   "execution_count": 9,
   "metadata": {},
   "outputs": [
    {
     "name": "stdout",
     "output_type": "stream",
     "text": [
      "['12', 1, 3]\n"
     ]
    }
   ],
   "source": [
    "lst=['12',1,3]\n",
    "print lst"
   ]
  },
  {
   "cell_type": "code",
   "execution_count": 7,
   "metadata": {},
   "outputs": [
    {
     "name": "stdout",
     "output_type": "stream",
     "text": [
      "['car', 'bike', 'truck']\n"
     ]
    }
   ],
   "source": [
    "\n",
    "print clist"
   ]
  },
  {
   "cell_type": "code",
   "execution_count": 11,
   "metadata": {},
   "outputs": [
    {
     "data": {
      "text/plain": [
       "'12'"
      ]
     },
     "execution_count": 11,
     "metadata": {},
     "output_type": "execute_result"
    }
   ],
   "source": [
    "lst[0]"
   ]
  },
  {
   "cell_type": "code",
   "execution_count": 12,
   "metadata": {},
   "outputs": [
    {
     "name": "stdout",
     "output_type": "stream",
     "text": [
      "3\n"
     ]
    }
   ],
   "source": [
    "#length \n",
    "thislist=[\"apple\",\"banana\",\"orange\"]\n",
    "print(len(thislist))"
   ]
  },
  {
   "cell_type": "code",
   "execution_count": 4,
   "metadata": {},
   "outputs": [],
   "source": [
    "fruits=[\"apple\",\"banana\",\"orange\"]\n",
    "fruits=[1,2,3,4]\n",
    "fruits=[True,False,False]\n",
    "newlist=[x if x!=\"banana\" else \"orange\" for x in fruits]"
   ]
  },
  {
   "cell_type": "code",
   "execution_count": 19,
   "metadata": {},
   "outputs": [
    {
     "name": "stdout",
     "output_type": "stream",
     "text": [
      "['a', 23, True, 43, 'male']\n"
     ]
    }
   ],
   "source": [
    "list1=[\"a\",23,True,43,\"male\"]\n",
    "print list1"
   ]
  },
  {
   "cell_type": "code",
   "execution_count": 20,
   "metadata": {},
   "outputs": [
    {
     "name": "stdout",
     "output_type": "stream",
     "text": [
      "<type 'list'>\n"
     ]
    }
   ],
   "source": [
    "mylist=[\"apple\",\"banana\",\"orange\"]\n",
    "print(type(mylist))"
   ]
  },
  {
   "cell_type": "code",
   "execution_count": 21,
   "metadata": {},
   "outputs": [
    {
     "name": "stdout",
     "output_type": "stream",
     "text": [
      "[1, 2, 4, 1, 2, 4]\n",
      "['a', 'b', 'c', 1, 2, 4]\n"
     ]
    }
   ],
   "source": [
    "list1=[\"a\",\"b\",\"c\"]\n",
    "list2=[1,2,4]\n",
    "list4=list2*2\n",
    "print list4\n",
    "\n",
    "list3=list1+list2\n",
    "print(list3)"
   ]
  },
  {
   "cell_type": "code",
   "execution_count": 47,
   "metadata": {},
   "outputs": [
    {
     "name": "stdout",
     "output_type": "stream",
     "text": [
      "list1[0] physics\n",
      "list2[1:5]: [2, 3, 4, 5]\n",
      "list2[1:5]: [0, 1]\n",
      "list2[1:5]: [1, 2, 3, 4, 5, 6, 7, 8, 6, 8, 7, 5, 3, 5, 6, 7, 8, 9, 0, 1]\n",
      "list2[1:5]: [3, 4, 5, 6, 7, 8, 6, 8, 7, 5, 3, 5, 6, 7, 8, 9, 0, 1]\n",
      "list2[1:5]: [1, 2]\n"
     ]
    }
   ],
   "source": [
    "list1=[\"physics\",\"chemistr\",2324,2341];\n",
    "# semicolon is optional\n",
    "#list2=[1,2,3,4,5,6]\n",
    "list2=[1,2,3,4,5,6,7,8,6,8,7,5,3,5,6,7,8,9,0,1];\n",
    "print \"list1[0]\" , list1[0]\n",
    "print \"list2[1:5]:\",list2[1:5]\n",
    "print \"list2[1:5]:\",list2[-2:] #it take last two element\n",
    "print \"list2[1:5]:\",list2[(2^2):]\n",
    "print \"list2[1:5]:\",list2[2:]#it print number after 2nd number till last\n",
    "print \"list2[1:5]:\",list2[:2] #it take first two\n"
   ]
  },
  {
   "cell_type": "code",
   "execution_count": 27,
   "metadata": {},
   "outputs": [
    {
     "name": "stdout",
     "output_type": "stream",
     "text": [
      "2000\n",
      "2001\n"
     ]
    }
   ],
   "source": [
    "list=[\"physics\",\"chemistry\",2000,1992];\n",
    "\n",
    "print list[2]\n",
    "list[2]=2001;\n",
    "\n",
    "print list[2]"
   ]
  },
  {
   "cell_type": "code",
   "execution_count": 28,
   "metadata": {},
   "outputs": [
    {
     "name": "stdout",
     "output_type": "stream",
     "text": [
      "['P', 'c', 1234, 2313]\n",
      "after deleting value at index 2:\n",
      "['P', 'c', 2313]\n"
     ]
    }
   ],
   "source": [
    "list1=[\"P\",\"c\",1234,2313];\n",
    "print list1\n",
    "del list1[2];\n",
    "\n",
    "print \"after deleting value at index 2:\"\n",
    "print list1"
   ]
  },
  {
   "cell_type": "code",
   "execution_count": 29,
   "metadata": {},
   "outputs": [
    {
     "name": "stdout",
     "output_type": "stream",
     "text": [
      "car\n",
      "bike\n",
      "truck\n"
     ]
    }
   ],
   "source": [
    "thislist=[\"car\",\"bike\",\"truck\"]\n",
    "\n",
    "for x in thislist:\n",
    "    print(x)"
   ]
  },
  {
   "cell_type": "code",
   "execution_count": 50,
   "metadata": {},
   "outputs": [
    {
     "name": "stdout",
     "output_type": "stream",
     "text": [
      "car\n",
      "bike\n",
      "truck\n"
     ]
    }
   ],
   "source": [
    "thislist=[\"car\",\"bike\",\"truck\"]\n",
    "\n",
    "for i in range(len(thislist)):\n",
    "    print(thislist[i])\n",
    "    i=i+1"
   ]
  },
  {
   "cell_type": "code",
   "execution_count": 51,
   "metadata": {},
   "outputs": [
    {
     "name": "stdout",
     "output_type": "stream",
     "text": [
      "[1, 2, 3, 'a', 'b', 'c']\n"
     ]
    }
   ],
   "source": [
    "list1=[1,2,3]\n",
    "list2=[\"a\",\"b\",\"c\"]\n",
    "\n",
    "for x in list2:\n",
    "    list1.append(x)\n",
    "\n",
    "print(list1)    "
   ]
  },
  {
   "cell_type": "code",
   "execution_count": 2,
   "metadata": {},
   "outputs": [
    {
     "name": "stdout",
     "output_type": "stream",
     "text": [
      "([0, 1, 2, 3, 4, 5, 6, 7, 8, 9], [0, 1, 2, 3, 4], ['APPLE', 'BANANA', 'ORANGE', 'KIWI'])\n"
     ]
    }
   ],
   "source": [
    "fruits=[\"apple\",\"banana\",\"orange\",\"kiwi\"]\n",
    "newlist0=[x for x in range(10)]\n",
    "newlist1=[x for x in range(10) if x<5]\n",
    "newlist2=[x.upper() for x in fruits]\n",
    "\n",
    "print(newlist0,newlist1,newlist2)\n",
    "\n",
    "#fruits=[\"apple\",\"banana\",\"orange\",\"kiwi\"]\n",
    "newlist=[x.upper() for x in fruits]\n",
    "newlist=['hello' for x in fruits]\n",
    "newlist=[x if x!=\"banana\" else \"orange\" for x in fruits]"
   ]
  },
  {
   "cell_type": "code",
   "execution_count": 3,
   "metadata": {},
   "outputs": [
    {
     "name": "stdout",
     "output_type": "stream",
     "text": [
      "['apple', 'banana', 'orange']\n"
     ]
    }
   ],
   "source": [
    "fruits=[\"apple\",\"banana\",\"orange\",\"kiwi\"]\n",
    "newlist=[]\n",
    "\n",
    "for x in fruits:\n",
    "    if \"a\" in x:\n",
    "        newlist.append(x)\n",
    "        \n",
    "print(newlist)        "
   ]
  },
  {
   "cell_type": "code",
   "execution_count": null,
   "metadata": {
    "collapsed": true
   },
   "outputs": [],
   "source": []
  }
 ],
 "metadata": {
  "kernelspec": {
   "display_name": "Python 2",
   "language": "python",
   "name": "python2"
  },
  "language_info": {
   "codemirror_mode": {
    "name": "ipython",
    "version": 2
   },
   "file_extension": ".py",
   "mimetype": "text/x-python",
   "name": "python",
   "nbconvert_exporter": "python",
   "pygments_lexer": "ipython2",
   "version": "2.7.13"
  }
 },
 "nbformat": 4,
 "nbformat_minor": 2
}
