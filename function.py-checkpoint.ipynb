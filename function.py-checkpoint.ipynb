{
 "cells": [
  {
   "cell_type": "code",
   "execution_count": 2,
   "metadata": {},
   "outputs": [
    {
     "name": "stdout",
     "output_type": "stream",
     "text": [
      "value inside funtion-> [1, 2, 4, 5]\n",
      "value outside funtion-> [11, 12, 13, 14, 15]\n"
     ]
    }
   ],
   "source": [
    "# function definition\n",
    "def fun(mylist):\n",
    "    \n",
    "    mylist=[1,2,4,5]\n",
    "    print \"value inside funtion->\",mylist #passed by value\n",
    "    return\n",
    "\n",
    "mylist=[11,12,13,14,15]\n",
    "fun(mylist);\n",
    "\n",
    "print \"value outside funtion->\",mylist\n"
   ]
  },
  {
   "cell_type": "code",
   "execution_count": 4,
   "metadata": {},
   "outputs": [
    {
     "name": "stdout",
     "output_type": "stream",
     "text": [
      "value inside funtion-> [11, 12, 13, 14, 15, [1, 2, 4, 5]]\n",
      "value outside funtion-> [11, 12, 13, 14, 15, [1, 2, 4, 5]]\n"
     ]
    }
   ],
   "source": [
    "# function definition\n",
    "def fun(mylist):\n",
    "    \n",
    "    mylist.append([1,2,4,5])\n",
    "    print \"value inside funtion->\",mylist #passed by reference that's why it print all value by help of append\n",
    "    return\n",
    "\n",
    "mylist=[11,12,13,14,15]\n",
    "fun(mylist);\n",
    "\n",
    "print \"value outside funtion->\",mylist\n"
   ]
  },
  {
   "cell_type": "code",
   "execution_count": 6,
   "metadata": {},
   "outputs": [
    {
     "name": "stdout",
     "output_type": "stream",
     "text": [
      "4\n",
      "hello\n",
      "Lucifer\n"
     ]
    }
   ],
   "source": [
    "def fun(str):\n",
    "    print(str)\n",
    "    return \n",
    "fun(4)\n",
    "fun(\"hello\")\n",
    "fun(\"Lucifer\")"
   ]
  },
  {
   "cell_type": "code",
   "execution_count": 7,
   "metadata": {},
   "outputs": [
    {
     "name": "stdout",
     "output_type": "stream",
     "text": [
      "My World\n"
     ]
    }
   ],
   "source": [
    "def fun(str):\n",
    "    \"this print a passed string into funtion\"\n",
    "    print str\n",
    "    return\n",
    "\n",
    "#here we can call in function\n",
    "fun(str=\"My World\")\n"
   ]
  },
  {
   "cell_type": "code",
   "execution_count": 9,
   "metadata": {
    "collapsed": true
   },
   "outputs": [],
   "source": [
    "x=12"
   ]
  },
  {
   "cell_type": "code",
   "execution_count": 10,
   "metadata": {},
   "outputs": [
    {
     "data": {
      "text/plain": [
       "12"
      ]
     },
     "execution_count": 10,
     "metadata": {},
     "output_type": "execute_result"
    }
   ],
   "source": [
    "x"
   ]
  },
  {
   "cell_type": "code",
   "execution_count": 13,
   "metadata": {},
   "outputs": [
    {
     "name": "stdout",
     "output_type": "stream",
     "text": [
      "Name: Pawan\n",
      "Age : 50\n"
     ]
    }
   ],
   "source": [
    "def fun(name,age):\n",
    "    print \"Name:\", name\n",
    "    print \"Age :\",age\n",
    "    return\n",
    "\n",
    "#call here into function\n",
    "\n",
    "fun(age=50,name=\"Pawan\")"
   ]
  },
  {
   "cell_type": "code",
   "execution_count": 16,
   "metadata": {},
   "outputs": [
    {
     "name": "stdout",
     "output_type": "stream",
     "text": [
      "Name: Pawan\n",
      "Age : 50\n",
      "Name: dipu\n",
      "Age : 34\n"
     ]
    }
   ],
   "source": [
    "def fun(name,age=34):\n",
    "    print \"Name:\", name\n",
    "    print \"Age :\",age\n",
    "    return\n",
    "\n",
    "#call here into function\n",
    "\n",
    "fun(age=50,name=\"Pawan\") #it replace age\n",
    "fun(name=\"dipu\")  #it take fun age and name"
   ]
  },
  {
   "cell_type": "code",
   "execution_count": 27,
   "metadata": {},
   "outputs": [
    {
     "name": "stdout",
     "output_type": "stream",
     "text": [
      "output is :\n",
      "10\n",
      "12\n",
      "hii\n",
      "14\n",
      "hii\n",
      "15\n",
      "hii\n",
      "16\n",
      "hii\n",
      "23\n",
      "hii\n",
      "43\n"
     ]
    }
   ],
   "source": [
    "#varible length arguments\n",
    "#function defintion is here\n",
    "def fun(arg1,arg2,*x): #here *x take multiple value  and arg1 take snigle value\n",
    "    \n",
    "    print \"output is :\" \n",
    "    print arg1\n",
    "    print arg2\n",
    "    \n",
    "  # print x[0],x[1],x[2]\n",
    "    for var in x:\n",
    "        print(\"hii\")\n",
    "        print var\n",
    "        \n",
    "\n",
    "        \n",
    "#call \n",
    "#fun(10,11)\n",
    "fun(10,12,14,15,16,23,43)     "
   ]
  },
  {
   "cell_type": "code",
   "execution_count": 20,
   "metadata": {},
   "outputs": [
    {
     "ename": "SyntaxError",
     "evalue": "invalid syntax (<ipython-input-20-046470ac19fc>, line 4)",
     "output_type": "error",
     "traceback": [
      "\u001b[1;36m  File \u001b[1;32m\"<ipython-input-20-046470ac19fc>\"\u001b[1;36m, line \u001b[1;32m4\u001b[0m\n\u001b[1;33m    fun(19, 20 \"twentytwo\")\u001b[0m\n\u001b[1;37m                         ^\u001b[0m\n\u001b[1;31mSyntaxError\u001b[0m\u001b[1;31m:\u001b[0m invalid syntax\n"
     ]
    }
   ],
   "source": [
    "def my_function(*kids):\n",
    "  print(\"The youngest child is \" + kids[2])\n",
    "\n",
    "my_function(\"Emil\", \"Tobias\", \"Linus\")"
   ]
  },
  {
   "cell_type": "code",
   "execution_count": null,
   "metadata": {
    "collapsed": true
   },
   "outputs": [],
   "source": []
  },
  {
   "cell_type": "code",
   "execution_count": null,
   "metadata": {
    "collapsed": true
   },
   "outputs": [],
   "source": []
  }
 ],
 "metadata": {
  "kernelspec": {
   "display_name": "Python 2",
   "language": "python",
   "name": "python2"
  },
  "language_info": {
   "codemirror_mode": {
    "name": "ipython",
    "version": 2
   },
   "file_extension": ".py",
   "mimetype": "text/x-python",
   "name": "python",
   "nbconvert_exporter": "python",
   "pygments_lexer": "ipython2",
   "version": "2.7.13"
  }
 },
 "nbformat": 4,
 "nbformat_minor": 2
}
