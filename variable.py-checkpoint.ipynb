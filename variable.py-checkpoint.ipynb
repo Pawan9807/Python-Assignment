{
 "cells": [
  {
   "cell_type": "code",
   "execution_count": 1,
   "metadata": {},
   "outputs": [
    {
     "name": "stdout",
     "output_type": "stream",
     "text": [
      "Hello\n"
     ]
    }
   ],
   "source": [
    "print(\"Hello\")"
   ]
  },
  {
   "cell_type": "code",
   "execution_count": 2,
   "metadata": {},
   "outputs": [
    {
     "name": "stdout",
     "output_type": "stream",
     "text": [
      "5\n"
     ]
    }
   ],
   "source": [
    "a=2\n",
    "b=3\n",
    "c=a+b\n",
    "print c"
   ]
  },
  {
   "cell_type": "code",
   "execution_count": 3,
   "metadata": {},
   "outputs": [
    {
     "name": "stdout",
     "output_type": "stream",
     "text": [
      "Cat\n",
      "dog\n",
      "snake\n"
     ]
    }
   ],
   "source": [
    "x,y,z=\"Cat\",\"dog\",\"snake\"\n",
    "print(x)\n",
    "print(y)\n",
    "print(z)"
   ]
  },
  {
   "cell_type": "code",
   "execution_count": 5,
   "metadata": {},
   "outputs": [
    {
     "name": "stdout",
     "output_type": "stream",
     "text": [
      "('Cat', 'dog', 'snake')\n",
      "('Cat', 'dog', 'snake')\n",
      "('Cat', 'dog', 'snake')\n"
     ]
    }
   ],
   "source": [
    "x=y=z=\"Cat\",\"dog\",\"snake\"\n",
    "print(x)\n",
    "print(y)\n",
    "print(z)"
   ]
  },
  {
   "cell_type": "code",
   "execution_count": 6,
   "metadata": {},
   "outputs": [
    {
     "name": "stdout",
     "output_type": "stream",
     "text": [
      "LION\n",
      "TIGER\n",
      "LEOPARD\n"
     ]
    }
   ],
   "source": [
    "animal=[\"LION\",\"TIGER\",\"LEOPARD\"]\n",
    "x,y,z=animal\n",
    "print(x)\n",
    "print(y)\n",
    "print(z)"
   ]
  },
  {
   "cell_type": "code",
   "execution_count": 7,
   "metadata": {},
   "outputs": [
    {
     "name": "stdout",
     "output_type": "stream",
     "text": [
      "pawan\n",
      "pawan\n"
     ]
    }
   ],
   "source": [
    "x=\"pawan\"\n",
    "print(x)\n",
    "\n",
    "x='pawan'\n",
    "print(x)"
   ]
  },
  {
   "cell_type": "code",
   "execution_count": 9,
   "metadata": {},
   "outputs": [
    {
     "name": "stdout",
     "output_type": "stream",
     "text": [
      "4\n",
      "4\n"
     ]
    }
   ],
   "source": [
    "# case sensitive\n",
    "\n",
    "a=4\n",
    "print(a)\n",
    "\n",
    "A=\"pawan\"\n",
    "print(a)"
   ]
  },
  {
   "cell_type": "code",
   "execution_count": 10,
   "metadata": {},
   "outputs": [
    {
     "name": "stdout",
     "output_type": "stream",
     "text": [
      "('My', 'name', 'is pawan')\n"
     ]
    }
   ],
   "source": [
    "x=\"My\"\n",
    "y=\"name\"\n",
    "z=\"is pawan\"\n",
    "print(x,y,z)"
   ]
  },
  {
   "cell_type": "code",
   "execution_count": 18,
   "metadata": {},
   "outputs": [
    {
     "name": "stdout",
     "output_type": "stream",
     "text": [
      "Mynameis Pawan\n"
     ]
    }
   ],
   "source": [
    "x=\"My\"\n",
    "y=\"name\"\n",
    "z=\"is Pawan\"\n",
    "print(x + y +z)"
   ]
  },
  {
   "cell_type": "code",
   "execution_count": 16,
   "metadata": {},
   "outputs": [
    {
     "name": "stdout",
     "output_type": "stream",
     "text": [
      "(1, 'pawan')\n"
     ]
    }
   ],
   "source": [
    "x=1\n",
    "y=\"pawan\"\n",
    "print(x,y)"
   ]
  },
  {
   "cell_type": "code",
   "execution_count": 20,
   "metadata": {},
   "outputs": [
    {
     "name": "stdout",
     "output_type": "stream",
     "text": [
      "5\n",
      "fad\n"
     ]
    }
   ],
   "source": [
    "x=5\n",
    "print x\n",
    "x=\"fad\"\n",
    "print x"
   ]
  },
  {
   "cell_type": "code",
   "execution_count": 26,
   "metadata": {},
   "outputs": [
    {
     "name": "stdout",
     "output_type": "stream",
     "text": [
      "landis gyr is awesome\n",
      "landis gyr isgreat\n"
     ]
    }
   ],
   "source": [
    "x=\"great\"\n",
    "\n",
    "def fun():\n",
    "    x=\"awesome\"\n",
    "    print(\"landis gyr is \"+x)\n",
    "    \n",
    "fun()\n",
    "    \n",
    "print(\"landis gyr is\"+x)"
   ]
  },
  {
   "cell_type": "code",
   "execution_count": 28,
   "metadata": {},
   "outputs": [
    {
     "name": "stdout",
     "output_type": "stream",
     "text": [
      "pawan12\n"
     ]
    }
   ],
   "source": [
    "x=\"pawan\"\n",
    "y=str(12)\n",
    "print(x+y)"
   ]
  },
  {
   "cell_type": "code",
   "execution_count": 35,
   "metadata": {},
   "outputs": [
    {
     "name": "stdout",
     "output_type": "stream",
     "text": [
      "landis gyr is great\n"
     ]
    }
   ],
   "source": [
    "x=\"great\"\n",
    "\n",
    "def fun():\n",
    "  \n",
    "      print(\"landis gyr is \"+x)\n",
    "    \n",
    "fun()"
   ]
  },
  {
   "cell_type": "code",
   "execution_count": 1,
   "metadata": {},
   "outputs": [
    {
     "name": "stdout",
     "output_type": "stream",
     "text": [
      "python isfantastic\n"
     ]
    }
   ],
   "source": [
    "x=\"awesome\"\n",
    "\n",
    "def myfun():\n",
    "    global x\n",
    "    x=\"fantastic\"\n",
    "    \n",
    "myfun()\n",
    "\n",
    "print(\"python is\" +x)"
   ]
  },
  {
   "cell_type": "code",
   "execution_count": 2,
   "metadata": {},
   "outputs": [
    {
     "name": "stdout",
     "output_type": "stream",
     "text": [
      "print is fantastic\n",
      "print is awesome\n"
     ]
    }
   ],
   "source": [
    "x=\"awesome\"\n",
    "def myfun():\n",
    "    x=\"fantastic\"\n",
    "    print(\"print is \"+x)\n",
    "    \n",
    "myfun()\n",
    "\n",
    "print(\"print is \"+x)\n",
    "    "
   ]
  },
  {
   "cell_type": "code",
   "execution_count": null,
   "metadata": {
    "collapsed": true
   },
   "outputs": [],
   "source": [
    "x=\"awesome\"\n",
    "\n",
    "def myfun():\n",
    "    print(\"python is\" +x)\n",
    "    \n",
    "myfun()\n",
    "\n"
   ]
  },
  {
   "cell_type": "code",
   "execution_count": null,
   "metadata": {
    "collapsed": true
   },
   "outputs": [],
   "source": []
  }
 ],
 "metadata": {
  "kernelspec": {
   "display_name": "Python 2",
   "language": "python",
   "name": "python2"
  },
  "language_info": {
   "codemirror_mode": {
    "name": "ipython",
    "version": 2
   },
   "file_extension": ".py",
   "mimetype": "text/x-python",
   "name": "python",
   "nbconvert_exporter": "python",
   "pygments_lexer": "ipython2",
   "version": "2.7.13"
  }
 },
 "nbformat": 4,
 "nbformat_minor": 2
}
